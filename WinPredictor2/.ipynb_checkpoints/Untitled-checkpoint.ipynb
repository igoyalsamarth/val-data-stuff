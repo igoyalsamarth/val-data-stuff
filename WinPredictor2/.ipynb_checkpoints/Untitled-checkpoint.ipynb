{
 "cells": [
  {
   "cell_type": "code",
   "execution_count": 4,
   "id": "d1d53185",
   "metadata": {},
   "outputs": [
    {
     "name": "stdout",
     "output_type": "stream",
     "text": [
      "RandomForestClassifier()\n",
      "[0 1 0 1 1 1 1 0 0 1 1 1 1 1 0 0 0 0 0 0 1 1 1 0 1 1 0 1 1 0 0 0 1 0 1 0 1\n",
      " 1 0 0 0 1 0 1 1 0 0 1 0 0 0 0 1 1 1 1 0 0 1 0 0 0 1 1 1 0 1 1 1 0 1 1 1 0\n",
      " 1 1 1 1 0 1 1 0 0 0 1 0 1 0 1 0 1 0 0 0 1 0 0 1 1 0 1 0 0 1 0 0 1 1 1 0]\n",
      "0.5727272727272728\n"
     ]
    },
    {
     "name": "stderr",
     "output_type": "stream",
     "text": [
      "C:\\Users\\SAGOYAL\\AppData\\Local\\Temp\\ipykernel_408\\2278966799.py:16: DataConversionWarning: A column-vector y was passed when a 1d array was expected. Please change the shape of y to (n_samples,), for example using ravel().\n",
      "  model.fit(X_train,y_train)\n"
     ]
    }
   ],
   "source": [
    "import numpy as np\n",
    "import pandas as pd\n",
    "from xgboost import XGBClassifier\n",
    "from sklearn.metrics import accuracy_score\n",
    "from sklearn.ensemble import RandomForestClassifier\n",
    "\n",
    "df = pd.read_csv('data_train.csv')\n",
    "X_train = np.array(df[['roundNumber','half','attackingTeamId','team1Load','team2Load']])\n",
    "y_train = np.array(df[['winningTeamId']])\n",
    "\n",
    "df = pd.read_csv('data_test.csv')\n",
    "X_test = np.array(df[['roundNumber','half','attackingTeamId','team1Load','team2Load']])\n",
    "y_test = np.array(df[['winningTeamId']])\n",
    "\n",
    "model = RandomForestClassifier(n_estimators = 100)\n",
    "model.fit(X_train,y_train)\n",
    "print(model)\n",
    "\n",
    "y_pred = model.predict(X_test)\n",
    "print(y_pred)\n",
    "predictions = [round(value) for value in y_pred]\n",
    "accuracy = accuracy_score(y_test,predictions)\n",
    "print(accuracy)\n",
    "\n",
    "#Accuracy = 57.2%"
   ]
  },
  {
   "cell_type": "code",
   "execution_count": null,
   "id": "b634ab36",
   "metadata": {},
   "outputs": [],
   "source": []
  }
 ],
 "metadata": {
  "kernelspec": {
   "display_name": "Python 3 (ipykernel)",
   "language": "python",
   "name": "python3"
  },
  "language_info": {
   "codemirror_mode": {
    "name": "ipython",
    "version": 3
   },
   "file_extension": ".py",
   "mimetype": "text/x-python",
   "name": "python",
   "nbconvert_exporter": "python",
   "pygments_lexer": "ipython3",
   "version": "3.10.7"
  }
 },
 "nbformat": 4,
 "nbformat_minor": 5
}
