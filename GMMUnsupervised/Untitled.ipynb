{
 "cells": [
  {
   "cell_type": "code",
   "execution_count": 1,
   "id": "6ad3c35d",
   "metadata": {},
   "outputs": [],
   "source": [
    "import numpy as np\n",
    "import pandas as pd\n",
    "import seaborn as sns\n",
    "import matplotlib.pyplot as plt\n",
    "from sklearn.preprocessing import PowerTransformer, StandardScaler\n",
    "from sklearn.decomposition import PCA\n",
    "from sklearn.mixture import BayesianGaussianMixture, GaussianMixture\n",
    "from sklearn.cluster import KMeans"
   ]
  },
  {
   "cell_type": "code",
   "execution_count": 2,
   "id": "0aaac430",
   "metadata": {},
   "outputs": [],
   "source": [
    "df = pd.read_csv('Valorant_Champoins_edited.csv')\n",
    "df = df.drop(['Rnd','R','KAST','K','D','A','FK','FD','CLSuc','CLSit','CL%'], axis = 1)\n",
    "df\n",
    "player = df['Player']"
   ]
  },
  {
   "cell_type": "code",
   "execution_count": 3,
   "id": "ee4b121f",
   "metadata": {},
   "outputs": [
    {
     "data": {
      "text/html": [
       "<div>\n",
       "<style scoped>\n",
       "    .dataframe tbody tr th:only-of-type {\n",
       "        vertical-align: middle;\n",
       "    }\n",
       "\n",
       "    .dataframe tbody tr th {\n",
       "        vertical-align: top;\n",
       "    }\n",
       "\n",
       "    .dataframe thead th {\n",
       "        text-align: right;\n",
       "    }\n",
       "</style>\n",
       "<table border=\"1\" class=\"dataframe\">\n",
       "  <thead>\n",
       "    <tr style=\"text-align: right;\">\n",
       "      <th></th>\n",
       "      <th>ACS</th>\n",
       "      <th>K:D</th>\n",
       "      <th>ADR</th>\n",
       "      <th>KPR</th>\n",
       "      <th>APR</th>\n",
       "      <th>FKPR</th>\n",
       "      <th>FDPR</th>\n",
       "      <th>HS%</th>\n",
       "      <th>KMax</th>\n",
       "    </tr>\n",
       "  </thead>\n",
       "  <tbody>\n",
       "    <tr>\n",
       "      <th>0</th>\n",
       "      <td>254.6</td>\n",
       "      <td>1.50</td>\n",
       "      <td>159.8</td>\n",
       "      <td>0.93</td>\n",
       "      <td>0.09</td>\n",
       "      <td>0.20</td>\n",
       "      <td>0.08</td>\n",
       "      <td>0.26</td>\n",
       "      <td>30</td>\n",
       "    </tr>\n",
       "    <tr>\n",
       "      <th>1</th>\n",
       "      <td>260.0</td>\n",
       "      <td>1.36</td>\n",
       "      <td>160.9</td>\n",
       "      <td>0.89</td>\n",
       "      <td>0.30</td>\n",
       "      <td>0.23</td>\n",
       "      <td>0.12</td>\n",
       "      <td>0.23</td>\n",
       "      <td>26</td>\n",
       "    </tr>\n",
       "    <tr>\n",
       "      <th>2</th>\n",
       "      <td>245.0</td>\n",
       "      <td>1.31</td>\n",
       "      <td>156.1</td>\n",
       "      <td>0.86</td>\n",
       "      <td>0.21</td>\n",
       "      <td>0.15</td>\n",
       "      <td>0.09</td>\n",
       "      <td>0.28</td>\n",
       "      <td>25</td>\n",
       "    </tr>\n",
       "    <tr>\n",
       "      <th>3</th>\n",
       "      <td>210.5</td>\n",
       "      <td>1.25</td>\n",
       "      <td>137.5</td>\n",
       "      <td>0.76</td>\n",
       "      <td>0.39</td>\n",
       "      <td>0.08</td>\n",
       "      <td>0.04</td>\n",
       "      <td>0.34</td>\n",
       "      <td>21</td>\n",
       "    </tr>\n",
       "    <tr>\n",
       "      <th>4</th>\n",
       "      <td>247.9</td>\n",
       "      <td>1.39</td>\n",
       "      <td>166.2</td>\n",
       "      <td>0.92</td>\n",
       "      <td>0.13</td>\n",
       "      <td>0.17</td>\n",
       "      <td>0.15</td>\n",
       "      <td>0.34</td>\n",
       "      <td>31</td>\n",
       "    </tr>\n",
       "    <tr>\n",
       "      <th>...</th>\n",
       "      <td>...</td>\n",
       "      <td>...</td>\n",
       "      <td>...</td>\n",
       "      <td>...</td>\n",
       "      <td>...</td>\n",
       "      <td>...</td>\n",
       "      <td>...</td>\n",
       "      <td>...</td>\n",
       "      <td>...</td>\n",
       "    </tr>\n",
       "    <tr>\n",
       "      <th>76</th>\n",
       "      <td>159.6</td>\n",
       "      <td>0.68</td>\n",
       "      <td>106.5</td>\n",
       "      <td>0.53</td>\n",
       "      <td>0.28</td>\n",
       "      <td>0.08</td>\n",
       "      <td>0.15</td>\n",
       "      <td>0.31</td>\n",
       "      <td>18</td>\n",
       "    </tr>\n",
       "    <tr>\n",
       "      <th>77</th>\n",
       "      <td>146.4</td>\n",
       "      <td>0.70</td>\n",
       "      <td>108.3</td>\n",
       "      <td>0.54</td>\n",
       "      <td>0.35</td>\n",
       "      <td>0.04</td>\n",
       "      <td>0.19</td>\n",
       "      <td>0.27</td>\n",
       "      <td>28</td>\n",
       "    </tr>\n",
       "    <tr>\n",
       "      <th>78</th>\n",
       "      <td>136.9</td>\n",
       "      <td>0.66</td>\n",
       "      <td>95.6</td>\n",
       "      <td>0.47</td>\n",
       "      <td>0.32</td>\n",
       "      <td>0.03</td>\n",
       "      <td>0.05</td>\n",
       "      <td>0.29</td>\n",
       "      <td>14</td>\n",
       "    </tr>\n",
       "    <tr>\n",
       "      <th>79</th>\n",
       "      <td>175.6</td>\n",
       "      <td>0.77</td>\n",
       "      <td>117.4</td>\n",
       "      <td>0.61</td>\n",
       "      <td>0.12</td>\n",
       "      <td>0.12</td>\n",
       "      <td>0.23</td>\n",
       "      <td>0.25</td>\n",
       "      <td>17</td>\n",
       "    </tr>\n",
       "    <tr>\n",
       "      <th>80</th>\n",
       "      <td>155.8</td>\n",
       "      <td>0.69</td>\n",
       "      <td>100.7</td>\n",
       "      <td>0.55</td>\n",
       "      <td>0.12</td>\n",
       "      <td>0.12</td>\n",
       "      <td>0.19</td>\n",
       "      <td>0.18</td>\n",
       "      <td>21</td>\n",
       "    </tr>\n",
       "  </tbody>\n",
       "</table>\n",
       "<p>81 rows × 9 columns</p>\n",
       "</div>"
      ],
      "text/plain": [
       "      ACS   K:D    ADR   KPR   APR  FKPR  FDPR   HS%  KMax\n",
       "0   254.6  1.50  159.8  0.93  0.09  0.20  0.08  0.26    30\n",
       "1   260.0  1.36  160.9  0.89  0.30  0.23  0.12  0.23    26\n",
       "2   245.0  1.31  156.1  0.86  0.21  0.15  0.09  0.28    25\n",
       "3   210.5  1.25  137.5  0.76  0.39  0.08  0.04  0.34    21\n",
       "4   247.9  1.39  166.2  0.92  0.13  0.17  0.15  0.34    31\n",
       "..    ...   ...    ...   ...   ...   ...   ...   ...   ...\n",
       "76  159.6  0.68  106.5  0.53  0.28  0.08  0.15  0.31    18\n",
       "77  146.4  0.70  108.3  0.54  0.35  0.04  0.19  0.27    28\n",
       "78  136.9  0.66   95.6  0.47  0.32  0.03  0.05  0.29    14\n",
       "79  175.6  0.77  117.4  0.61  0.12  0.12  0.23  0.25    17\n",
       "80  155.8  0.69  100.7  0.55  0.12  0.12  0.19  0.18    21\n",
       "\n",
       "[81 rows x 9 columns]"
      ]
     },
     "execution_count": 3,
     "metadata": {},
     "output_type": "execute_result"
    }
   ],
   "source": [
    "X_train = df.drop(['Player'], axis = 1)\n",
    "X_train"
   ]
  },
  {
   "cell_type": "code",
   "execution_count": 4,
   "id": "d1abdf23",
   "metadata": {
    "scrolled": false
   },
   "outputs": [
    {
     "data": {
      "text/html": [
       "<div>\n",
       "<style scoped>\n",
       "    .dataframe tbody tr th:only-of-type {\n",
       "        vertical-align: middle;\n",
       "    }\n",
       "\n",
       "    .dataframe tbody tr th {\n",
       "        vertical-align: top;\n",
       "    }\n",
       "\n",
       "    .dataframe thead th {\n",
       "        text-align: right;\n",
       "    }\n",
       "</style>\n",
       "<table border=\"1\" class=\"dataframe\">\n",
       "  <thead>\n",
       "    <tr style=\"text-align: right;\">\n",
       "      <th></th>\n",
       "      <th>ACS</th>\n",
       "      <th>K:D</th>\n",
       "      <th>ADR</th>\n",
       "      <th>KPR</th>\n",
       "      <th>APR</th>\n",
       "      <th>FKPR</th>\n",
       "      <th>FDPR</th>\n",
       "      <th>HS%</th>\n",
       "      <th>KMax</th>\n",
       "    </tr>\n",
       "  </thead>\n",
       "  <tbody>\n",
       "    <tr>\n",
       "      <th>0</th>\n",
       "      <td>1.869221</td>\n",
       "      <td>2.522649</td>\n",
       "      <td>1.736767</td>\n",
       "      <td>2.131468</td>\n",
       "      <td>-2.058450</td>\n",
       "      <td>1.602617</td>\n",
       "      <td>-0.426904</td>\n",
       "      <td>-0.154570</td>\n",
       "      <td>1.263678</td>\n",
       "    </tr>\n",
       "    <tr>\n",
       "      <th>1</th>\n",
       "      <td>2.005367</td>\n",
       "      <td>1.976612</td>\n",
       "      <td>1.787276</td>\n",
       "      <td>1.849697</td>\n",
       "      <td>0.370206</td>\n",
       "      <td>1.877634</td>\n",
       "      <td>0.587989</td>\n",
       "      <td>-0.774365</td>\n",
       "      <td>0.598630</td>\n",
       "    </tr>\n",
       "    <tr>\n",
       "      <th>2</th>\n",
       "      <td>1.617744</td>\n",
       "      <td>1.765867</td>\n",
       "      <td>1.563325</td>\n",
       "      <td>1.627607</td>\n",
       "      <td>-0.635977</td>\n",
       "      <td>1.017810</td>\n",
       "      <td>-0.136942</td>\n",
       "      <td>0.245499</td>\n",
       "      <td>0.415955</td>\n",
       "    </tr>\n",
       "    <tr>\n",
       "      <th>3</th>\n",
       "      <td>0.597010</td>\n",
       "      <td>1.500844</td>\n",
       "      <td>0.597766</td>\n",
       "      <td>0.812672</td>\n",
       "      <td>1.330931</td>\n",
       "      <td>-0.181876</td>\n",
       "      <td>-1.905605</td>\n",
       "      <td>1.387231</td>\n",
       "      <td>-0.397809</td>\n",
       "    </tr>\n",
       "    <tr>\n",
       "      <th>4</th>\n",
       "      <td>1.695031</td>\n",
       "      <td>2.098904</td>\n",
       "      <td>2.024191</td>\n",
       "      <td>2.062503</td>\n",
       "      <td>-1.573177</td>\n",
       "      <td>1.273420</td>\n",
       "      <td>1.140268</td>\n",
       "      <td>1.387231</td>\n",
       "      <td>1.415709</td>\n",
       "    </tr>\n",
       "    <tr>\n",
       "      <th>...</th>\n",
       "      <td>...</td>\n",
       "      <td>...</td>\n",
       "      <td>...</td>\n",
       "      <td>...</td>\n",
       "      <td>...</td>\n",
       "      <td>...</td>\n",
       "      <td>...</td>\n",
       "      <td>...</td>\n",
       "      <td>...</td>\n",
       "    </tr>\n",
       "    <tr>\n",
       "      <th>76</th>\n",
       "      <td>-1.383428</td>\n",
       "      <td>-1.939700</td>\n",
       "      <td>-1.487191</td>\n",
       "      <td>-1.627829</td>\n",
       "      <td>0.150725</td>\n",
       "      <td>-0.181876</td>\n",
       "      <td>1.140268</td>\n",
       "      <td>0.826962</td>\n",
       "      <td>-1.118948</td>\n",
       "    </tr>\n",
       "    <tr>\n",
       "      <th>77</th>\n",
       "      <td>-2.033876</td>\n",
       "      <td>-1.780711</td>\n",
       "      <td>-1.344412</td>\n",
       "      <td>-1.501039</td>\n",
       "      <td>0.909227</td>\n",
       "      <td>-1.162035</td>\n",
       "      <td>1.682523</td>\n",
       "      <td>0.046741</td>\n",
       "      <td>0.943343</td>\n",
       "    </tr>\n",
       "    <tr>\n",
       "      <th>78</th>\n",
       "      <td>-2.550568</td>\n",
       "      <td>-2.102447</td>\n",
       "      <td>-2.428002</td>\n",
       "      <td>-2.437781</td>\n",
       "      <td>0.587446</td>\n",
       "      <td>-1.451998</td>\n",
       "      <td>-1.481076</td>\n",
       "      <td>0.441754</td>\n",
       "      <td>-2.295673</td>\n",
       "    </tr>\n",
       "    <tr>\n",
       "      <th>79</th>\n",
       "      <td>-0.682066</td>\n",
       "      <td>-1.252036</td>\n",
       "      <td>-0.669086</td>\n",
       "      <td>-0.672180</td>\n",
       "      <td>-1.693407</td>\n",
       "      <td>0.568934</td>\n",
       "      <td>2.067904</td>\n",
       "      <td>-0.358487</td>\n",
       "      <td>-1.386567</td>\n",
       "    </tr>\n",
       "    <tr>\n",
       "      <th>80</th>\n",
       "      <td>-1.563383</td>\n",
       "      <td>-1.859744</td>\n",
       "      <td>-1.970562</td>\n",
       "      <td>-1.376444</td>\n",
       "      <td>-1.693407</td>\n",
       "      <td>0.568934</td>\n",
       "      <td>1.682523</td>\n",
       "      <td>-1.863739</td>\n",
       "      <td>-0.397809</td>\n",
       "    </tr>\n",
       "  </tbody>\n",
       "</table>\n",
       "<p>81 rows × 9 columns</p>\n",
       "</div>"
      ],
      "text/plain": [
       "         ACS       K:D       ADR       KPR       APR      FKPR      FDPR  \\\n",
       "0   1.869221  2.522649  1.736767  2.131468 -2.058450  1.602617 -0.426904   \n",
       "1   2.005367  1.976612  1.787276  1.849697  0.370206  1.877634  0.587989   \n",
       "2   1.617744  1.765867  1.563325  1.627607 -0.635977  1.017810 -0.136942   \n",
       "3   0.597010  1.500844  0.597766  0.812672  1.330931 -0.181876 -1.905605   \n",
       "4   1.695031  2.098904  2.024191  2.062503 -1.573177  1.273420  1.140268   \n",
       "..       ...       ...       ...       ...       ...       ...       ...   \n",
       "76 -1.383428 -1.939700 -1.487191 -1.627829  0.150725 -0.181876  1.140268   \n",
       "77 -2.033876 -1.780711 -1.344412 -1.501039  0.909227 -1.162035  1.682523   \n",
       "78 -2.550568 -2.102447 -2.428002 -2.437781  0.587446 -1.451998 -1.481076   \n",
       "79 -0.682066 -1.252036 -0.669086 -0.672180 -1.693407  0.568934  2.067904   \n",
       "80 -1.563383 -1.859744 -1.970562 -1.376444 -1.693407  0.568934  1.682523   \n",
       "\n",
       "         HS%      KMax  \n",
       "0  -0.154570  1.263678  \n",
       "1  -0.774365  0.598630  \n",
       "2   0.245499  0.415955  \n",
       "3   1.387231 -0.397809  \n",
       "4   1.387231  1.415709  \n",
       "..       ...       ...  \n",
       "76  0.826962 -1.118948  \n",
       "77  0.046741  0.943343  \n",
       "78  0.441754 -2.295673  \n",
       "79 -0.358487 -1.386567  \n",
       "80 -1.863739 -0.397809  \n",
       "\n",
       "[81 rows x 9 columns]"
      ]
     },
     "execution_count": 4,
     "metadata": {},
     "output_type": "execute_result"
    }
   ],
   "source": [
    "scaler = PowerTransformer()\n",
    "X_train_scaled = scaler.fit_transform(X_train)\n",
    "df_scaled = pd.DataFrame(X_train_scaled, columns = X_train.columns)\n",
    "df_scaled"
   ]
  },
  {
   "cell_type": "code",
   "execution_count": 5,
   "id": "4f82deca",
   "metadata": {},
   "outputs": [
    {
     "data": {
      "image/png": "[encoded data removed]",
      "text/plain": [
       "<Figure size 800x400 with 1 Axes>"
      ]
     },
     "metadata": {},
     "output_type": "display_data"
    }
   ],
   "source": [
    "pca = PCA(n_components=9)\n",
    "pca.fit(df_scaled)\n",
    "variance = pca.explained_variance_ratio_\n",
    "var = np.cumsum(np.round(variance, 3)*100)\n",
    "features = np.arange(1,10,1)\n",
    "\n",
    "pca_variance = pd.DataFrame({'features': features, 'variance': var})\n",
    "\n",
    "cust_color_pca = ['#cc9900', '#e6ac00', '#ffbf00', '#fdc029', '#f7c14c', '#f0c268', '#e8c381','#dfc498','#d4c5af',\n",
    "'#B8B8B8', '#A9A9A9', '#A0A0A0', '#909090', '#808080', '#707070', '#696969', '#606060', '#585858', '#484848', '#404040',\n",
    "'#383838', '#303030', '#282828', '#202020', '#101010', '#000000']\n",
    "\n",
    "plt.figure(figsize=(8,4))\n",
    "sns.barplot(x=pca_variance.features, y=pca_variance.variance, data=pca_variance, edgecolor='black', linewidth=1.5, saturation=1.5, palette=cust_color_pca);\n",
    "plt.ylabel('% Variance Explained')\n",
    "plt.xlabel('# of Features')\n",
    "plt.title('PCA Analysis')\n",
    "plt.ylim(0,100.5);"
   ]
  },
  {
   "cell_type": "code",
   "execution_count": 6,
   "id": "61520e7b",
   "metadata": {},
   "outputs": [],
   "source": [
    "clusters = np.arange(2, 20)\n",
    "\n",
    "inertias = []\n",
    "\n",
    "for k in clusters:\n",
    "    km = KMeans(n_clusters=k)\n",
    "    km.fit(df_scaled.iloc[:10000,:])\n",
    "    inertias.append(km.inertia_)\n",
    "    \n",
    "kmeans = list(zip(clusters, inertias))\n",
    "kmeans_df = pd.DataFrame(kmeans, columns=['clusters',  'interias'])  "
   ]
  },
  {
   "cell_type": "code",
   "execution_count": 7,
   "id": "45252bf5",
   "metadata": {},
   "outputs": [
    {
     "data": {
      "image/png": "[encoded data removed]",
      "text/plain": [
       "<Figure size 800x400 with 1 Axes>"
      ]
     },
     "metadata": {},
     "output_type": "display_data"
    }
   ],
   "source": [
    "plt.figure(figsize=(8,4))\n",
    "sns.lineplot(x='clusters', y='interias', data=kmeans_df, color='black', marker='o', markerfacecolor=cust_color_pca[0], markersize=12);\n",
    "plt.ylabel('Interias')\n",
    "plt.xlabel('No. of Clusters')\n",
    "plt.xticks(np.arange(2, 20, step=1));"
   ]
  },
  {
   "cell_type": "code",
   "execution_count": 8,
   "id": "3ba8e22f",
   "metadata": {},
   "outputs": [
    {
     "name": "stdout",
     "output_type": "stream",
     "text": [
      "Initialization 0\n",
      "Initialization converged: True\t time lapse 0.02240s\t ll -5.41424\n",
      "Initialization 1\n",
      "Initialization converged: True\t time lapse 0.06833s\t ll -5.40241\n",
      "Initialization 2\n",
      "  Iteration 10\t time lapse 0.03500s\t ll change 0.06033\n",
      "Initialization converged: True\t time lapse 0.03690s\t ll -5.35506\n",
      "Initialization 3\n",
      "  Iteration 10\t time lapse 0.03191s\t ll change 0.01457\n",
      "Initialization converged: True\t time lapse 0.04986s\t ll -5.31523\n",
      "Initialization 4\n",
      "Initialization converged: True\t time lapse 0.14913s\t ll -5.21608\n",
      "Initialization 5\n",
      "  Iteration 10\t time lapse 0.02545s\t ll change 0.00427\n",
      "Initialization converged: True\t time lapse 0.02945s\t ll -5.27953\n",
      "Initialization 6\n",
      "Initialization converged: True\t time lapse 0.01694s\t ll -5.28131\n",
      "Initialization 7\n",
      "Initialization converged: True\t time lapse 0.01297s\t ll -4.58760\n",
      "Initialization 8\n",
      "  Iteration 10\t time lapse 0.01795s\t ll change 0.00145\n",
      "Initialization converged: True\t time lapse 0.01895s\t ll -5.32810\n",
      "Initialization 9\n",
      "Initialization converged: True\t time lapse 0.01396s\t ll -5.41424\n"
     ]
    }
   ],
   "source": [
    "gmm = GaussianMixture(n_components=4, random_state=3, verbose=3, n_init=10)\n",
    "gmm_preds = gmm.fit_predict(df_scaled)"
   ]
  },
  {
   "cell_type": "code",
   "execution_count": 9,
   "id": "5f583ca6",
   "metadata": {},
   "outputs": [
    {
     "data": {
      "image/png": "[encoded data removed]",
      "text/plain": [
       "<Figure size 800x400 with 1 Axes>"
      ]
     },
     "metadata": {},
     "output_type": "display_data"
    }
   ],
   "source": [
    "plt.figure(figsize=(8, 4))\n",
    "for i in range(gmm.means_.shape[0]):\n",
    "    plt.scatter(np.arange(df_scaled.shape[1]), gmm.means_[i])\n",
    "plt.xticks(ticks=np.arange(df_scaled.shape[1]), labels=df_scaled.columns, rotation=90)\n",
    "plt.title('Cluster Means')\n",
    "plt.ylabel('Cluster Centres')\n",
    "plt.xlabel('Features');\n",
    "plt.show()"
   ]
  },
  {
   "cell_type": "code",
   "execution_count": 10,
   "id": "2ac86d19",
   "metadata": {},
   "outputs": [],
   "source": [
    "gmm = GaussianMixture(n_components=4, random_state=3, verbose=0, n_init=10, max_iter=500)\n",
    "gmm_preds = gmm.fit_predict(df_scaled)"
   ]
  },
  {
   "cell_type": "code",
   "execution_count": 11,
   "id": "acd244a6",
   "metadata": {},
   "outputs": [],
   "source": [
    "bgmm = BayesianGaussianMixture(n_components=4, random_state=3, verbose=0, covariance_type='full', max_iter=500, n_init=10, init_params='random')\n",
    "bgmm_preds = bgmm.fit_predict(X_train)"
   ]
  },
  {
   "cell_type": "code",
   "execution_count": 12,
   "id": "1588c4de",
   "metadata": {},
   "outputs": [
    {
     "name": "stdout",
     "output_type": "stream",
     "text": [
      "yay ----> 0\n",
      "kiNgg ----> 2\n",
      "Laz ----> 0\n",
      "pancada ----> 2\n",
      "Derke ----> 0\n",
      "Shao ----> 1\n",
      "Cryocells ----> 0\n",
      "Sacy ----> 1\n",
      "MaKo ----> 1\n",
      "Less ----> 0\n",
      "keznit ----> 3\n",
      "SUYGETSU ----> 1\n",
      "Alfajer ----> 3\n",
      "Zyppan ----> 2\n",
      "Mistic ----> 1\n",
      "ScreaM ----> 2\n",
      "Mazino ----> 3\n",
      "NagZ ----> 0\n",
      "Will ----> 2\n",
      "Jamppi ----> 2\n",
      "crashies ----> 1\n",
      "ardiis ----> 2\n",
      "BuZz ----> 2\n",
      "CHICHOO ----> 1\n",
      "saadhak ----> 1\n",
      "Melser ----> 3\n",
      "bang ----> 1\n",
      "BcJ ----> 1\n",
      "ZmjjKK ----> 0\n",
      "sScary ----> 3\n",
      "aspas ----> 3\n",
      "d4v41 ----> 3\n",
      "Shyy ----> 1\n",
      "Boaster ----> 1\n",
      "dgzin ----> 1\n",
      "Smoggy ----> 2\n",
      "Marved ----> 1\n",
      "stax ----> 1\n",
      "zekken ----> 2\n",
      "Victor ----> 1\n",
      "Enzo ----> 1\n",
      "Zest ----> 1\n",
      "Dep ----> 2\n",
      "Crws ----> 2\n",
      "nzr ----> 3\n",
      "Tacolilla ----> 3\n",
      "AYRIN ----> 3\n",
      "Nivera ----> 1\n",
      "Quick ----> 3\n",
      "delz1k ----> 1\n",
      "f0rsakeN ----> 0\n",
      "fl1pzjder ----> 0\n",
      "tehbotoL ----> 0\n",
      "Rb ----> 1\n",
      "SugarZ3ro ----> 1\n",
      "adverso ----> 1\n",
      "mindfreak ----> 1\n",
      "dimasick ----> 1\n",
      "dephh ----> 1\n",
      "Jinggg ----> 2\n",
      "FNS ----> 1\n",
      "blaZek1ng ----> 1\n",
      "stellar ----> 1\n",
      "TENNN ----> 1\n",
      "soulcas ----> 1\n",
      "Haodong ----> 1\n",
      "Derrek ----> 1\n",
      "Benkai ----> 1\n",
      "Klaus ----> 3\n",
      "nobody ----> 1\n",
      "Asuna ----> 3\n",
      "Famouz ----> 1\n",
      "foxz ----> 2\n",
      "Khalil ----> 3\n",
      "Life ----> 0\n",
      "Sushiboys ----> 1\n",
      "ANGE1 ----> 1\n",
      "Mazin ----> 0\n",
      "crow ----> 1\n",
      "Surf ----> 0\n",
      "BerserX ----> 3\n"
     ]
    }
   ],
   "source": [
    "for i in range(len(player)):\n",
    "    print(f'{player[i]} ----> {bgmm_preds[i]}')"
   ]
  },
  {
   "cell_type": "code",
   "execution_count": 13,
   "id": "008394ae",
   "metadata": {},
   "outputs": [],
   "source": [
    "player_dict = dict(zip(player,bgmm_preds))"
   ]
  },
  {
   "cell_type": "code",
   "execution_count": 14,
   "id": "430d98f0",
   "metadata": {},
   "outputs": [
    {
     "data": {
      "text/plain": [
       "{'yay': 0,\n",
       " 'kiNgg': 2,\n",
       " 'Laz': 0,\n",
       " 'pancada': 2,\n",
       " 'Derke': 0,\n",
       " 'Shao': 1,\n",
       " 'Cryocells': 0,\n",
       " 'Sacy': 1,\n",
       " 'MaKo': 1,\n",
       " 'Less': 0,\n",
       " 'keznit': 3,\n",
       " 'SUYGETSU': 1,\n",
       " 'Alfajer': 3,\n",
       " 'Zyppan': 2,\n",
       " 'Mistic': 1,\n",
       " 'ScreaM': 2,\n",
       " 'Mazino': 3,\n",
       " 'NagZ': 0,\n",
       " 'Will': 2,\n",
       " 'Jamppi': 2,\n",
       " 'crashies': 1,\n",
       " 'ardiis': 2,\n",
       " 'BuZz': 2,\n",
       " 'CHICHOO': 1,\n",
       " 'saadhak': 1,\n",
       " 'Melser': 3,\n",
       " 'bang': 1,\n",
       " 'BcJ': 1,\n",
       " 'ZmjjKK': 0,\n",
       " 'sScary': 3,\n",
       " 'aspas': 3,\n",
       " 'd4v41': 3,\n",
       " 'Shyy': 1,\n",
       " 'Boaster': 1,\n",
       " 'dgzin': 1,\n",
       " 'Smoggy': 2,\n",
       " 'Marved': 1,\n",
       " 'stax': 1,\n",
       " 'zekken': 2,\n",
       " 'Victor': 1,\n",
       " 'Enzo': 1,\n",
       " 'Zest': 1,\n",
       " 'Dep': 2,\n",
       " 'Crws': 2,\n",
       " 'nzr': 3,\n",
       " 'Tacolilla': 3,\n",
       " 'AYRIN': 3,\n",
       " 'Nivera': 1,\n",
       " 'Quick': 3,\n",
       " 'delz1k': 1,\n",
       " 'f0rsakeN': 0,\n",
       " 'fl1pzjder': 0,\n",
       " 'tehbotoL': 0,\n",
       " 'Rb': 1,\n",
       " 'SugarZ3ro': 1,\n",
       " 'adverso': 1,\n",
       " 'mindfreak': 1,\n",
       " 'dimasick': 1,\n",
       " 'dephh': 1,\n",
       " 'Jinggg': 2,\n",
       " 'FNS': 1,\n",
       " 'blaZek1ng': 1,\n",
       " 'stellar': 1,\n",
       " 'TENNN': 1,\n",
       " 'soulcas': 1,\n",
       " 'Haodong': 1,\n",
       " 'Derrek': 1,\n",
       " 'Benkai': 1,\n",
       " 'Klaus': 3,\n",
       " 'nobody': 1,\n",
       " 'Asuna': 3,\n",
       " 'Famouz': 1,\n",
       " 'foxz': 2,\n",
       " 'Khalil': 3,\n",
       " 'Life': 0,\n",
       " 'Sushiboys': 1,\n",
       " 'ANGE1': 1,\n",
       " 'Mazin': 0,\n",
       " 'crow': 1,\n",
       " 'Surf': 0,\n",
       " 'BerserX': 3}"
      ]
     },
     "execution_count": 14,
     "metadata": {},
     "output_type": "execute_result"
    }
   ],
   "source": [
    "player_dict"
   ]
  },
  {
   "cell_type": "code",
   "execution_count": 15,
   "id": "7e3549d6",
   "metadata": {},
   "outputs": [
    {
     "name": "stdout",
     "output_type": "stream",
     "text": [
      "Shao\n",
      "Sacy\n",
      "MaKo\n",
      "SUYGETSU\n",
      "Mistic\n",
      "crashies\n",
      "CHICHOO\n",
      "saadhak\n",
      "bang\n",
      "BcJ\n",
      "Shyy\n",
      "Boaster\n",
      "dgzin\n",
      "Marved\n",
      "stax\n",
      "Victor\n",
      "Enzo\n",
      "Zest\n",
      "Nivera\n",
      "delz1k\n",
      "Rb\n",
      "SugarZ3ro\n",
      "adverso\n",
      "mindfreak\n",
      "dimasick\n",
      "dephh\n",
      "FNS\n",
      "blaZek1ng\n",
      "stellar\n",
      "TENNN\n",
      "soulcas\n",
      "Haodong\n",
      "Derrek\n",
      "Benkai\n",
      "nobody\n",
      "Famouz\n",
      "Sushiboys\n",
      "ANGE1\n",
      "crow\n"
     ]
    }
   ],
   "source": [
    "for i in player_dict:\n",
    "    if player_dict.get(i) ==1:\n",
    "        print(i)\n"
   ]
  },
  {
   "cell_type": "code",
   "execution_count": 16,
   "id": "76d6fe51",
   "metadata": {
    "scrolled": false
   },
   "outputs": [
    {
     "data": {
      "image/png": "[encoded data removed]",
      "text/plain": [
       "<Figure size 640x480 with 1 Axes>"
      ]
     },
     "metadata": {},
     "output_type": "display_data"
    }
   ],
   "source": [
    "pca = PCA(n_components = 2)\n",
    "X_train_pca = pca.fit_transform(X_train)\n",
    "#print(X_train_pca)\n",
    "for i in range(len(player)):\n",
    "    if bgmm_preds[i] == 1:\n",
    "        plt.scatter(X_train_pca[i,0],X_train_pca[i,1],c = 'r')\n",
    "    elif bgmm_preds[i] == 2:\n",
    "        plt.scatter(X_train_pca[i,0],X_train_pca[i,1],c = 'b')\n",
    "    elif bgmm_preds[i] == 0:\n",
    "        plt.scatter(X_train_pca[i,0],X_train_pca[i,1],c = 'g')\n",
    "    elif bgmm_preds[i] == 3:\n",
    "        plt.scatter(X_train_pca[i,0],X_train_pca[i,1],c = 'orange')"
   ]
  },
  {
   "cell_type": "code",
   "execution_count": 17,
   "id": "ae4c54b3",
   "metadata": {},
   "outputs": [
    {
     "data": {
      "image/png": "[encoded data removed]",
      "text/plain": [
       "<Figure size 640x480 with 1 Axes>"
      ]
     },
     "metadata": {},
     "output_type": "display_data"
    }
   ],
   "source": [
    "pca = PCA(n_components = 2)\n",
    "X_train_pca = pca.fit_transform(df_scaled)\n",
    "#print(X_train_pca)\n",
    "for i in range(len(player)):\n",
    "    if bgmm_preds[i] == 1:\n",
    "        plt.scatter(X_train_pca[i,0],X_train_pca[i,1],c = 'r')\n",
    "    elif bgmm_preds[i] == 2:\n",
    "        plt.scatter(X_train_pca[i,0],X_train_pca[i,1],c = 'b')\n",
    "    elif bgmm_preds[i] == 0:\n",
    "        plt.scatter(X_train_pca[i,0],X_train_pca[i,1],c = 'g')\n",
    "    elif bgmm_preds[i] == 3:\n",
    "        plt.scatter(X_train_pca[i,0],X_train_pca[i,1],c = 'orange')"
   ]
  },
  {
   "cell_type": "code",
   "execution_count": 18,
   "id": "a5c5d20d",
   "metadata": {},
   "outputs": [
    {
     "data": {
      "image/png": "[encoded data removed]",
      "text/plain": [
       "<Figure size 640x480 with 1 Axes>"
      ]
     },
     "metadata": {},
     "output_type": "display_data"
    }
   ],
   "source": [
    "for i in range(len(player)):\n",
    "    if bgmm_preds[i] == 1:\n",
    "        plt.scatter(X_train.ACS[i],X_train.ADR[i],c = 'r')\n",
    "    elif bgmm_preds[i] == 2:\n",
    "        plt.scatter(X_train.ACS[i],X_train.ADR[i],c = 'g')\n",
    "    elif bgmm_preds[i] == 0:\n",
    "        plt.scatter(X_train.ACS[i],X_train.ADR[i],c = 'b')\n",
    "    elif bgmm_preds[i] == 3:\n",
    "        plt.scatter(X_train.ACS[i],X_train.ADR[i],c = 'orange')"
   ]
  },
  {
   "cell_type": "code",
   "execution_count": 19,
   "id": "709c3bfc",
   "metadata": {},
   "outputs": [
    {
     "data": {
      "image/png": "[encoded data removed]",
      "text/plain": [
       "<Figure size 640x480 with 1 Axes>"
      ]
     },
     "metadata": {},
     "output_type": "display_data"
    }
   ],
   "source": [
    "for i in range(len(player)):\n",
    "    if bgmm_preds[i] == 1:\n",
    "        plt.scatter(X_train.FKPR[i],X_train.FDPR[i],c = 'r')\n",
    "    elif bgmm_preds[i] == 2:\n",
    "        plt.scatter(X_train.FKPR[i],X_train.FDPR[i],c = 'g')\n",
    "    elif bgmm_preds[i] == 0:\n",
    "        plt.scatter(X_train.FKPR[i],X_train.FDPR[i],c = 'b')\n",
    "    elif bgmm_preds[i] == 3:\n",
    "        plt.scatter(X_train.FKPR[i],X_train.FDPR[i],c = 'orange')"
   ]
  },
  {
   "cell_type": "code",
   "execution_count": 31,
   "id": "af1414e7",
   "metadata": {},
   "outputs": [],
   "source": [
    "import umap\n",
    "\n"
   ]
  },
  {
   "cell_type": "code",
   "execution_count": 33,
   "id": "4dc18856",
   "metadata": {},
   "outputs": [],
   "source": []
  },
  {
   "cell_type": "code",
   "execution_count": 53,
   "id": "ddc4ba34",
   "metadata": {},
   "outputs": [
    {
     "name": "stderr",
     "output_type": "stream",
     "text": [
      "C:\\Users\\SAGOYAL\\AppData\\Local\\Packages\\PythonSoftwareFoundation.Python.3.10_qbz5n2kfra8p0\\LocalCache\\local-packages\\Python310\\site-packages\\umap\\umap_.py:2344: UserWarning: n_neighbors is larger than the dataset size; truncating to X.shape[0] - 1\n",
      "  warn(\n"
     ]
    },
    {
     "data": {
      "text/plain": [
       "(81, 2)"
      ]
     },
     "execution_count": 53,
     "metadata": {},
     "output_type": "execute_result"
    }
   ],
   "source": [
    "manifold = umap.UMAP(n_neighbors = 100,  min_dist = 0.5, metric = 'correlation').fit(X_train,bgmm_preds)\n",
    "X_reduced = manifold.transform(X_train)\n",
    "X_reduced.shape"
   ]
  },
  {
   "cell_type": "code",
   "execution_count": 54,
   "id": "11adf66d",
   "metadata": {},
   "outputs": [
    {
     "data": {
      "text/plain": [
       "<matplotlib.collections.PathCollection at 0x1fd632c3ac0>"
      ]
     },
     "execution_count": 54,
     "metadata": {},
     "output_type": "execute_result"
    },
    {
     "data": {
      "image/png": "[encoded data removed]",
      "text/plain": [
       "<Figure size 640x480 with 1 Axes>"
      ]
     },
     "metadata": {},
     "output_type": "display_data"
    }
   ],
   "source": [
    "plt.scatter(X_reduced[:,0],X_reduced[:,1],c = 'r',s = 3)"
   ]
  },
  {
   "cell_type": "code",
   "execution_count": 55,
   "id": "190ae462",
   "metadata": {},
   "outputs": [
    {
     "data": {
      "image/png": "[encoded data removed]",
      "text/plain": [
       "<Figure size 640x480 with 1 Axes>"
      ]
     },
     "metadata": {},
     "output_type": "display_data"
    }
   ],
   "source": [
    "for i in range(len(player)):\n",
    "    if bgmm_preds[i] == 1:\n",
    "        plt.scatter(X_reduced[i,0],X_reduced[i,1],c = 'r', s = 3)\n",
    "    elif bgmm_preds[i] == 2:\n",
    "        plt.scatter(X_reduced[i,0],X_reduced[i,1],c = 'g', s = 3)\n",
    "    elif bgmm_preds[i] == 0:\n",
    "        plt.scatter(X_reduced[i,0],X_reduced[i,1],c = 'b', s = 3)\n",
    "    elif bgmm_preds[i] == 3:\n",
    "        plt.scatter(X_reduced[i,0],X_reduced[i,1],c = 'y', s = 3)\n"
   ]
  },
  {
   "cell_type": "code",
   "execution_count": 28,
   "id": "34c082a3",
   "metadata": {},
   "outputs": [
    {
     "ename": "AttributeError",
     "evalue": "module 'umap' has no attribute 'plot'",
     "output_type": "error",
     "traceback": [
      "\u001b[1;31m---------------------------------------------------------------------------\u001b[0m",
      "\u001b[1;31mAttributeError\u001b[0m                            Traceback (most recent call last)",
      "Cell \u001b[1;32mIn [28], line 1\u001b[0m\n\u001b[1;32m----> 1\u001b[0m umap\u001b[38;5;241m.\u001b[39mplot\u001b[38;5;241m.\u001b[39mpoints(manifold, labels\u001b[38;5;241m=\u001b[39mbgmm_preds, theme\u001b[38;5;241m=\u001b[39m\u001b[38;5;124m\"\u001b[39m\u001b[38;5;124mfire\u001b[39m\u001b[38;5;124m\"\u001b[39m)\n",
      "\u001b[1;31mAttributeError\u001b[0m: module 'umap' has no attribute 'plot'"
     ]
    }
   ],
   "source": [
    "umap.plot.points(manifold, labels=bgmm_preds, theme=\"fire\");"
   ]
  },
  {
   "cell_type": "code",
   "execution_count": null,
   "id": "dc553d96",
   "metadata": {},
   "outputs": [],
   "source": []
  }
 ],
 "metadata": {
  "kernelspec": {
   "display_name": "Python 3 (ipykernel)",
   "language": "python",
   "name": "python3"
  },
  "language_info": {
   "codemirror_mode": {
    "name": "ipython",
    "version": 3
   },
   "file_extension": ".py",
   "mimetype": "text/x-python",
   "name": "python",
   "nbconvert_exporter": "python",
   "pygments_lexer": "ipython3",
   "version": "3.10.9"
  }
 },
 "nbformat": 4,
 "nbformat_minor": 5
}
