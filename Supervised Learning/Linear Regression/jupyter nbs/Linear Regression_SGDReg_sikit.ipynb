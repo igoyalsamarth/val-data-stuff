{
  "metadata": {
    "language_info": {
      "codemirror_mode": {
        "name": "python",
        "version": 3
      },
      "file_extension": ".py",
      "mimetype": "text/x-python",
      "name": "python",
      "nbconvert_exporter": "python",
      "pygments_lexer": "ipython3",
      "version": "3.8"
    },
    "kernelspec": {
      "name": "python",
      "display_name": "Python (Pyodide)",
      "language": "python"
    }
  },
  "nbformat_minor": 4,
  "nbformat": 4,
  "cells": [
    {
      "cell_type": "code",
      "source": "import numpy as np\nimport pandas as pd\nimport matplotlib.pyplot as plt\n#from sklearn import preprocessing, svm\n#from sklearn.model_selection import train_test_split\nfrom sklearn.linear_model import SGDRegressor\nfrom sklearn.preprocessing import StandardScaler\n\n\ndf = pd.read_csv('LinReg.csv')\ndf_binary = df[['ACS', 'ADR']]\ndf_binary.columns = ['ACS', 'ADR']\ndf_binary.head()\nx = np.array(df_binary['ADR']).reshape(-1,1)\ny = np.array(df_binary['ACS'])\n#plt.scatter(X,y,color = 'r')\n#X_train,X_test,y_train,y_test = train_test_split(X,y,test_size = 0.1)\nsc = StandardScaler()\nX = sc.fit_transform(x)\nsgdr = SGDRegressor(max_iter = 1000)\nsgdr.fit(X,y)\n\nscore = sgdr.score(X,y)\nintc = sgdr.intercept_\nintc2 = sc.inverse_transform(np.array(intc).reshape(-1,1))\nslope = sgdr.coef_\ny_pred = sgdr.predict(X)\n\n#plotting\nfig,ax = plt.subplots(figsize = (18,18))\nplt.scatter(X,y)\nplt.plot(X,y_pred,c='red',linestyle='--',dashes=(5,5))\n\n#plot decoration\nfig.set_facecolor('#f3edd3')\nax.patch.set_facecolor('#f3edd3')\nax.grid(ls='dotted',lw=.8,color='lightgrey',axis='y',zorder=1)\nax.annotate(xy=(2.5,281.3),text='vakk',fontsize=20)\nax.annotate(xy=(-3.5,125),text='Zehradieux ',fontsize=20)\nax.annotate(xy=(-3,270),text=f'R-Squared = {round(score,2)}\\nThe SGDRegression equation: y = {intc} + {slope} * x ',fontname='Andale Mono',fontsize=20)\nplt.xlabel('Average Damange per round',fontsize=18,fontname='Druk')\nplt.ylabel('Average Combact Score',fontsize=18,fontname='Druk')\nplt.title('Evaluating the Relationship Between ADR  and ACS',fontsize=24,)\n#plt.show()\nplt.draw()\nplt.savefig('SGDReg.png',dpi=300,bbox_inches = 'tight',facecolor='#f3edd3')\n",
      "metadata": {
        "trusted": true
      },
      "execution_count": 32,
      "outputs": []
    },
    {
      "cell_type": "code",
      "source": "",
      "metadata": {},
      "execution_count": null,
      "outputs": []
    }
  ]
}